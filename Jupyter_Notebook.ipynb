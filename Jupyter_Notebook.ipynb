{
 "cells": [
  {
   "cell_type": "markdown",
   "metadata": {},
   "source": [
    "<center>\n",
    "    <img src=\"https://cf-courses-data.s3.us.cloud-object-storage.appdomain.cloud/IBMDeveloperSkillsNetwork-DS0105EN-SkillsNetwork/labs/Module2/images/SN_web_lightmode.png\" width=\"300\" alt=\"cognitiveclass.ai logo\">\n",
    "</center>\n"
   ]
  },
  {
   "cell_type": "markdown",
   "metadata": {},
   "source": [
    "#### Add your code below following the instructions given in the course\n"
   ]
  },
  {
   "cell_type": "markdown",
   "metadata": {},
   "source": [
    "### **Here's a simple Python code cell you can use in Jupyter to convert minutes to hours:**"
   ]
  },
  {
   "cell_type": "code",
   "execution_count": 2,
   "metadata": {},
   "outputs": [
    {
     "name": "stdout",
     "output_type": "stream",
     "text": [
      "90 minutes is equal to 1.50 hours\n"
     ]
    }
   ],
   "source": [
    "# Convert minutes to hours\n",
    "\n",
    "minutes = 90  # This sets a variable called minutes to 90.\n",
    "hours = minutes / 60 #There are 60 minutes in 1 hour. So, to convert minutes to hours, you divide the number of minutes by 60.\n",
    "\n",
    "print(f\"{minutes} minutes is equal to {hours:.2f} hours\") #this line prints the result in a readable sentence,{hours:.2f} formats the hours number to 2 decimal places, e.g., 1.50.\n"
   ]
  },
  {
   "cell_type": "markdown",
   "metadata": {},
   "source": [
    "### **I do 10 squats every 45 minutes during the day (11 hoours). This is how to calculate how many squats I am doing daily:**"
   ]
  },
  {
   "cell_type": "code",
   "execution_count": 23,
   "metadata": {},
   "outputs": [
    {
     "data": {
      "text/html": [
       "<h5><b>You will do 140 squats in 11 hours.</b></h5>"
      ],
      "text/plain": [
       "<IPython.core.display.HTML object>"
      ]
     },
     "metadata": {},
     "output_type": "display_data"
    }
   ],
   "source": [
    "# Daily squat calculator\n",
    "\n",
    "from IPython.display import display, HTML  # ← this line is necessary\n",
    "\n",
    "# Input values\n",
    "total_hours = 11\n",
    "interval_minutes = 45\n",
    "squats_per_interval = 10\n",
    "\n",
    "# Calculations\n",
    "total_minutes = total_hours * 60\n",
    "intervals_per_day = total_minutes // interval_minutes\n",
    "total_squats = intervals_per_day * squats_per_interval\n",
    "\n",
    "# Display output in bold and H3 style\n",
    "display(HTML(f\"<h5><b>You will do {total_squats} squats in {total_hours} hours.</b></h5>\"))\n"
   ]
  },
  {
   "cell_type": "markdown",
   "metadata": {},
   "source": [
    "### **Explanation:**\n",
    "\n",
    "- 1 hours * 60 = 660 minutes\n",
    "\n",
    "- 660 minutes ÷ 45 minutes = 14 full intervals\n",
    "\n",
    "- 14 intervals * 10 squats = 140 squats"
   ]
  },
  {
   "cell_type": "code",
   "execution_count": null,
   "metadata": {},
   "outputs": [],
   "source": []
  }
 ],
 "metadata": {
  "kernelspec": {
   "display_name": "Python 3 (ipykernel)",
   "language": "python",
   "name": "python3"
  },
  "language_info": {
   "codemirror_mode": {
    "name": "ipython",
    "version": 3
   },
   "file_extension": ".py",
   "mimetype": "text/x-python",
   "name": "python",
   "nbconvert_exporter": "python",
   "pygments_lexer": "ipython3",
   "version": "3.12.8"
  }
 },
 "nbformat": 4,
 "nbformat_minor": 4
}
